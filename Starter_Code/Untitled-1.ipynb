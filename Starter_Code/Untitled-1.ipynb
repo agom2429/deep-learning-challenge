{
 "cells": [
  {
   "cell_type": "code",
   "execution_count": 1,
   "metadata": {},
   "outputs": [
    {
     "name": "stdout",
     "output_type": "stream",
     "text": [
      "Collecting mrjob\n",
      "  Using cached mrjob-0.7.4-py2.py3-none-any.whl (439 kB)\n",
      "Requirement already satisfied: PyYAML>=3.10 in c:\\users\\agom2\\anaconda\\anaconda3\\envs\\dev\\lib\\site-packages (from mrjob) (6.0)\n",
      "Installing collected packages: mrjob\n",
      "Successfully installed mrjob-0.7.4\n",
      "Note: you may need to restart the kernel to use updated packages.\n"
     ]
    }
   ],
   "source": [
    "pip install mrjob\n"
   ]
  }
 ],
 "metadata": {
  "kernelspec": {
   "display_name": "dev",
   "language": "python",
   "name": "python3"
  },
  "language_info": {
   "codemirror_mode": {
    "name": "ipython",
    "version": 3
   },
   "file_extension": ".py",
   "mimetype": "text/x-python",
   "name": "python",
   "nbconvert_exporter": "python",
   "pygments_lexer": "ipython3",
   "version": "3.10.11"
  }
 },
 "nbformat": 4,
 "nbformat_minor": 2
}
